{
 "cells": [
  {
   "cell_type": "markdown",
   "metadata": {},
   "source": [
    "# Andrew Arpin 200398857 - Problem Set #1"
   ]
  },
  {
   "attachments": {
    "image-2.png": {
     "image/png": "[encoded data removed]"
    }
   },
   "cell_type": "markdown",
   "metadata": {},
   "source": [
    "# Question 1 \n",
    "What data type is each of the following?\n",
    "\n",
    "![image-2.png](attachment:image-2.png)\n"
   ]
  },
  {
   "cell_type": "markdown",
   "metadata": {},
   "source": [
    "a) Int\n",
    "<br>\n",
    "b) Float\n",
    "<br>\n",
    "c) boolean\n",
    "<br>\n",
    "d) Char\n",
    "<br>\n",
    "e) Int\n",
    "<br>\n",
    "f) int\n",
    "<br>\n",
    "g) char\n",
    "<br>\n",
    "h) float\n",
    "<br>\n",
    "i) int\n",
    "<br>\n",
    "j) array\n",
    "<br>\n",
    "k) boolean\n",
    "<br>\n",
    "l) double"
   ]
  },
  {
   "cell_type": "markdown",
   "metadata": {},
   "source": [
    "# Question 2a\n",
    "How many letters are there in 'Supercalifragilisticexpialidocious'?\n"
   ]
  },
  {
   "cell_type": "code",
   "execution_count": 1,
   "metadata": {},
   "outputs": [],
   "source": [
    "   static void Q2a()\n",
    "        {\n",
    "            string super = \"Supercalifragilisticexpialidocious\";\n",
    "            //checks string length\n",
    "            string superLength = super.Length.ToString();\n",
    "            Console.WriteLine(\"Question 2a\");\n",
    "            Console.WriteLine(superLength);\n",
    "            Console.WriteLine(\" \");\n",
    "        }\n"
   ]
  },
  {
   "cell_type": "markdown",
   "metadata": {},
   "source": [
    "<center><img src=\"Q2A.png\"></center>\n"
   ]
  },
  {
   "cell_type": "markdown",
   "metadata": {},
   "source": [
    "# Question 2b\n",
    "Does 'Supercalifragilisticexpialidocious' contain 'ice' as a substring? "
   ]
  },
  {
   "cell_type": "code",
   "execution_count": null,
   "metadata": {},
   "outputs": [],
   "source": [
    " static void Q2b()\n",
    "        {\n",
    "            Console.WriteLine(\"Question 2b\");\n",
    "            string super = \"Supercalifragilisticexpialidocious\";\n",
    "            //checks if Contains ice\n",
    "            if (super.Contains(\"ice\") == true)\n",
    "            {\n",
    "                Console.WriteLine(\"Supercalifragilisticexpialidocious contains 'ice'\");\n",
    "                Console.WriteLine(\" \");\n",
    "            }\n",
    "            else\n",
    "            {\n",
    "                Console.WriteLine(\"Supercalifragilisticexpialidocious does not contains 'ice'\");\n",
    "                Console.WriteLine(\" \");\n",
    "            }\n",
    "        }"
   ]
  },
  {
   "cell_type": "markdown",
   "metadata": {},
   "source": [
    "   <center><img src=\"Q2B.png\"></center>"
   ]
  },
  {
   "cell_type": "markdown",
   "metadata": {},
   "source": [
    "# Question 2c\n",
    "Which of the following words is the longest:\n",
    "<br>\n",
    "Supercalifragilisticexpialidocious, Honorificabilitudinitatibus, or Bababadalgharaghtakamminarronnkonn? "
   ]
  },
  {
   "cell_type": "code",
   "execution_count": null,
   "metadata": {},
   "outputs": [],
   "source": [
    " static void Q2c()\n",
    "        {\n",
    "            Console.WriteLine(\"Question 2c\");\n",
    "            //created arr with all 3 words\n",
    "            string[] arr = new string[3];\n",
    "            arr[0] = \"Supercalifragilisticexpialidocious\";\n",
    "            arr[1] = \"Bababadalgharaghtakamminarronnkonn\"; \n",
    "            arr[2] = \"Honorificabilitudinitatibus\";\n",
    "\n",
    "            int w1 = arr[0].Length;\n",
    "            int w2 = arr[1].Length;\n",
    "            int w3 = arr[2].Length;\n",
    "\n",
    "            //check if any values are the same\n",
    "            if (w1 == w2 || w2 == w3 || w3 == w1)\n",
    "            {\n",
    "                if (w1 == w2)\n",
    "                {                  \n",
    "                    Console.WriteLine(w1 + \" and \" + w2 + \"are the same length\");\n",
    "                }\n",
    "                if (w2 == w3)\n",
    "                {\n",
    "                    Console.WriteLine(w2 + \" and \" + w3 + \"are the same length\");\n",
    "                }\n",
    "                if (w3 == w1)\n",
    "                {\n",
    "                    Console.WriteLine(w1 + \" and \" + w3 + \"are the same length\");\n",
    "                }\n",
    "            }\n",
    "            //compares all values \n",
    "            else\n",
    "            {\n",
    "                if (w1 > w2)\n",
    "                {\n",
    "                    if (w1 > w3)\n",
    "                    {\n",
    "                        Console.WriteLine(\"The biggest word is: \" + w1);\n",
    "                    }\n",
    "                    else\n",
    "                    {\n",
    "                        Console.WriteLine(\"The biggest word is: \" + w3);\n",
    "                    }\n",
    "                }\n",
    "                else\n",
    "                {\n",
    "                    if (w2 > w3)\n",
    "                    {\n",
    "                        Console.WriteLine(\"The biggest word is: \" + w2);\n",
    "                    }\n",
    "                    else\n",
    "                    {\n",
    "                        Console.WriteLine(\"The biggest word is: \" + w3);\n",
    "                    }\n",
    "                }\n",
    "            }         \n",
    "        }"
   ]
  },
  {
   "cell_type": "markdown",
   "metadata": {},
   "source": [
    "   <center><img src=\"Q2C.png\"></center>"
   ]
  },
  {
   "cell_type": "markdown",
   "metadata": {},
   "source": [
    "# Question 2d\n",
    "Which composer comes first in the dictionary: 'Berlioz', 'Borodin', 'Brian',\n",
    "<br>\n",
    "'Bartok', 'Bellini', 'Buxtehude', 'Bernstein'. Which one comes last?"
   ]
  },
  {
   "cell_type": "code",
   "execution_count": null,
   "metadata": {},
   "outputs": [],
   "source": [
    " static void Q2d()\n",
    "        {\n",
    "            var composers = new SortedSet<string>();\n",
    "            composers.Add(\"Berlioz\");\n",
    "            composers.Add(\"Borodin\");\n",
    "            composers.Add(\"Brian\");\n",
    "            composers.Add(\"Bartok\");\n",
    "            composers.Add(\"Bellini\");\n",
    "            composers.Add(\"Buxtehude\");\n",
    "            composers.Add(\"Bernstein\");\n",
    "\n",
    "          \n",
    "            Console.WriteLine(\"The first composer is \" +composers.ElementAtOrDefault(0));\n",
    "            Console.WriteLine(\"The last composer is \" + composers.ElementAtOrDefault(6));\n",
    "            //using System.Linq; nessisary to access specifc emlemts in a sortedset (ElementAtOrDefault)\n",
    "        }"
   ]
  },
  {
   "cell_type": "markdown",
   "metadata": {},
   "source": [
    "   <center><img src=\"Q2D.png\"></center>"
   ]
  },
  {
   "cell_type": "markdown",
   "metadata": {},
   "source": [
    "# Question 3\n",
    "Implement function triangleArea(a,b,c) that takes as input the lengths of the 3\n",
    "sides of a triangle and returns the area of the triangle."
   ]
  },
  {
   "cell_type": "code",
   "execution_count": null,
   "metadata": {},
   "outputs": [],
   "source": [
    "static void Q3()\n",
    "        {\n",
    "            Console.WriteLine(\"Question 3\");\n",
    "            double area = 0;         \n",
    "            double s = 0; \n",
    "            Console.Write(\"Enter a length: \");\n",
    "            double a = Convert.ToDouble(Console.ReadLine());\n",
    "            Console.Write(\"Enter a length: \");\n",
    "            double b = Convert.ToDouble(Console.ReadLine());\n",
    "            Console.Write(\"Enter a length: \");\n",
    "            double c = Convert.ToDouble(Console.ReadLine());\n",
    "\n",
    "            s = (a + b + c) / 2;\n",
    "            Console.WriteLine(s);\n",
    "            area = Math.Sqrt(s * (s - a) * (s - b) * (s - c));\n",
    "            //https://www.geeksforgeeks.org/c-sharp-math-sqrt-method/#:~:text=In%20C%23%2C%20Math.,cached%20for%20a%20performance%20boost. \n",
    "            //used to find square root funtion\n",
    "            Console.WriteLine(area);\n",
    "        }"
   ]
  },
  {
   "cell_type": "markdown",
   "metadata": {},
   "source": [
    "   <center><img src=\"Q3.png\"></center>"
   ]
  },
  {
   "cell_type": "markdown",
   "metadata": {},
   "source": [
    "# Question 4\n",
    "Write a program in C# Sharp to separate odd and even integers in separate arrays. "
   ]
  },
  {
   "cell_type": "code",
   "execution_count": null,
   "metadata": {},
   "outputs": [],
   "source": [
    " static void Q4()\n",
    "        {\n",
    "            Console.Write(\"element - 0: \");\n",
    "            int e0 = Convert.ToInt32(Console.ReadLine());\n",
    "            Console.Write(\"element - 1: \");\n",
    "            int e1 = Convert.ToInt32(Console.ReadLine());\n",
    "            Console.Write(\"element - 2: \");\n",
    "            int e2 = Convert.ToInt32(Console.ReadLine());\n",
    "            Console.Write(\"element - 3: \");\n",
    "            int e3 = Convert.ToInt32(Console.ReadLine());\n",
    "            Console.Write(\"element - 4: \");\n",
    "            int e4 = Convert.ToInt32(Console.ReadLine());\n",
    "\n",
    "\n",
    "            int[] arr = new int[5];\n",
    "            arr[0] = e0;\n",
    "            arr[1] = e1;\n",
    "            arr[2] = e2;\n",
    "            arr[3] = e3;\n",
    "            arr[4] = e4;\n",
    "\n",
    "            List<int> even = new List<int>();\n",
    "            List<int> odd = new List<int>();\n",
    "\n",
    "            foreach (var i in arr)\n",
    "            {\n",
    "                if (i%2 == 0)\n",
    "                {\n",
    "                    even.Add(i);\n",
    "                }\n",
    "                else\n",
    "                {\n",
    "                    odd.Add(i);\n",
    "                }\n",
    "            }\n",
    "            Console.Write(\"The Even elements are: \");\n",
    "            foreach (int i in even)\n",
    "            {                \n",
    "                Console.Write(i + \" \");\n",
    "            }\n",
    "            Console.WriteLine(\"\");\n",
    "            Console.Write(\"The Odd elements are: \");            \n",
    "            foreach (int i in odd)\n",
    "            {\n",
    "                Console.Write(i + \" \");\n",
    "            }\n",
    "            //https://www.codegrepper.com/code-examples/csharp/c%23+print+array+one+line \n",
    "            //for printing on single line (their syntax is different but showed me that write rather than write line exists)\n",
    "\n",
    "        }"
   ]
  },
  {
   "cell_type": "markdown",
   "metadata": {},
   "source": [
    "   <center><img src=\"Q4.png\"></center>"
   ]
  },
  {
   "cell_type": "markdown",
   "metadata": {},
   "source": [
    "# Question 5a\n",
    "\n",
    "Write a function inside(x,y,x1,y1,x2,y2) that returns True or False\n",
    "<br>\n",
    "depending on whether the point (x,y) lies in the rectangle with lower left\n",
    "<br>\n",
    "corner (x1,y1) and upper right corner (x2,y2)"
   ]
  },
  {
   "cell_type": "code",
   "execution_count": null,
   "metadata": {},
   "outputs": [],
   "source": []
  },
  {
   "cell_type": "markdown",
   "metadata": {},
   "source": [
    "# Question 5b\n",
    "\n",
    "Use function inside() from part a. to write an expression that tests whether\n",
    "<br>\n",
    "the point (1,1) lies in both of the following rectangles: one with lower left\n",
    "<br>\n",
    "corner (0.3, 0.5) and upper right corner (1.1, 0.7) and the other with lower\n",
    "<br>\n",
    "left corner (0.5, 0.2) and upper right corner (1.1, 2)."
   ]
  },
  {
   "cell_type": "code",
   "execution_count": null,
   "metadata": {},
   "outputs": [],
   "source": []
  },
  {
   "cell_type": "markdown",
   "metadata": {},
   "source": [
    "# Question 6\n",
    "You can turn a word into pig-Latin using the following two rules (simplified):"
   ]
  },
  {
   "cell_type": "code",
   "execution_count": 30,
   "metadata": {},
   "outputs": [
    {
     "name": "stdout",
     "output_type": "stream",
     "text": [
      "enter a word elo\n",
      "\n",
      "Enjoy your pig latin! eloway\n"
     ]
    }
   ],
   "source": [
    "def pig():\n",
    "    contains = ('A','E','I','O','U','a','e','i','o','u')\n",
    "    word = input(\"enter a word \")\n",
    "    firstLetter = word[0]\n",
    "    if firstLetter in contains:\n",
    "        print()\n",
    "        print(\"Enjoy your pig latin! \" + word.lower() + \"way\")\n",
    "    else: \n",
    "        print()\n",
    "        remove = word[0]\n",
    "        final =  word[1:] + remove + \"ay\"\n",
    "        print(\"Enjoy your pig latin! \" + final.lower())\n",
    "pig()\n"
   ]
  },
  {
   "cell_type": "markdown",
   "metadata": {},
   "source": [
    "# Question 7\n",
    "File bloodtype1.txt records blood-types of patients (A, B, AB, O or OO) at a clinic.\n",
    "Write a function bldcount() that reads the file with name name and reports (i.e.,\n",
    "prints) how many patients there are in each bloodtype.\n"
   ]
  },
  {
   "cell_type": "code",
   "execution_count": 11,
   "metadata": {},
   "outputs": [
    {
     "name": "stdout",
     "output_type": "stream",
     "text": [
      "There are 15 patients with blood type A\n",
      "There are 1 patients with blood type B\n",
      "There are 13 patients with blood type AB\n",
      "There are 15 patients with blood type O\n",
      "There are 0 patients with blood type OO\n"
     ]
    }
   ],
   "source": [
    "def bldcount():\n",
    "    infile = open('bloodtype1.txt', 'r')\n",
    "    file = infile.read()\n",
    "    a = file.count(\"A \")\n",
    "    #prevents AB from being counted using spacing\n",
    "    b = file.count(\" B\")\n",
    "    #prevents AB from being counted using spacing\n",
    "    ab = file.count(\"AB\")\n",
    "    o = file.count(\"O\")\n",
    "    oo = file.count(\"OO\")\n",
    "    print(\"There are \" + str(a) + \" patients with blood type A\")\n",
    "    print(\"There are \" + str(b) + \" patients with blood type B\")\n",
    "    print(\"There are \" + str(ab) + \" patients with blood type AB\")\n",
    "    print(\"There are \" + str(o) + \" patients with blood type O\")\n",
    "    print(\"There are \" + str(oo) + \" patients with blood type OO\")\n",
    "    \n",
    "bldcount()"
   ]
  },
  {
   "cell_type": "markdown",
   "metadata": {},
   "source": [
    "# Question 8\n",
    "<br>\n",
    "Write a function curconv() that takes as input:\n",
    "<br>\n",
    "1. a currency represented using a string (e.g., 'JPY' for the Japanese Yen or\n",
    "'EUR' for the Euro)\n",
    "<br>\n",
    "2. an amount\n",
    "<br>\n",
    "and then converts and returns the amount in US dollars."
   ]
  },
  {
   "cell_type": "code",
   "execution_count": 30,
   "metadata": {},
   "outputs": [
    {
     "name": "stdout",
     "output_type": "stream",
     "text": [
      "Please enter a currency: AUD\n",
      "Please enter a amount: 1.2\n",
      "1.24141884\n"
     ]
    }
   ],
   "source": [
    "currency = input(\"Please enter a currency: \")\n",
    "amount = input(\"Please enter a amount: \")\n",
    "\n",
    "def curconv(currency, amount): \n",
    "    \n",
    "    #declares currency values \n",
    "    #better to declare value and currency type in array and find the value using just one if statement       \n",
    "    infile = open('currencies.txt', 'r').read()\n",
    "    file = infile.split(\", \")   \n",
    "    #Had to split by commas rather than splitting into multiple lines as I was unable to access the currency amount otherwise\n",
    "    #Not sure what the issue was as I used your method of (if words[0]==currency: factor=words[1])\n",
    "    for line in file:\n",
    "        words = line.split()          \n",
    "    if currency in words:\n",
    "        i = words.index(currency)\n",
    "        #finds currency index\n",
    "        i += 1\n",
    "        #adds one as the conversion rate is after \n",
    "        factor = words[i] \n",
    "        print(float(factor) * float(amount))\n",
    "        #converts factor to float values and amount to float as the user cound input decimal values      \n",
    "    else:\n",
    "        print(\"Currency entered invalid\")\n",
    "        # if the currency entered is not in the list     \n",
    "         \n",
    "curconv(currency, amount)"
   ]
  },
  {
   "cell_type": "markdown",
   "metadata": {},
   "source": [
    "# Question 9\n",
    "\n",
    "Each of the following will cause an exception (an error). Identify what type of\n",
    "exception each will cause.\n",
    "\n",
    "Trying to add incompatible variables, as in \n",
    "<br>\n",
    "adding 6 + ‘a’\n",
    "<br><br>\n",
    "Referring to the 12th item of a list that has only 10\n",
    "<br>\n",
    "items\n",
    "<br>\n",
    "<br>\n",
    "Using a value that is out of range for a function’s\n",
    "<br>\n",
    "input, such as calling math.sqrt(-1.0)\n",
    "<br>\n",
    "<br>\n",
    "Using an undeclared variable, such as print(x)\n",
    "<br>\n",
    "when x has not been defined\n",
    "<br>\n",
    "<br>\n",
    "Trying to open a file that does not exist, such as\n",
    "<br>\n",
    "mistyping the file name or looking in the wrong\n",
    "<br>\n",
    "directory. "
   ]
  },
  {
   "cell_type": "markdown",
   "metadata": {},
   "source": [
    "a) TypeError (erroneous state error)                         \n",
    "<br>\n",
    "b) IndexError (erroneous state error)                                                 \n",
    "<br>\n",
    "c) NameError (erroneous state error)\n",
    "<br>\n",
    "d) FileNotFoundError (erroneous state error)                     "
   ]
  },
  {
   "cell_type": "markdown",
   "metadata": {},
   "source": [
    "# Question 10\n",
    "<br>\n",
    "Write a function called frequencies()\n",
    "<br>\n",
    "that takes a string as its only parameter, and returns a list of integers, showing the\n",
    "<br>\n",
    "number of times each character appears in the text. Your function may ignore any\n",
    "<br>\n",
    "characters that are not in letters. "
   ]
  },
  {
   "cell_type": "code",
   "execution_count": 9,
   "metadata": {},
   "outputs": [
    {
     "name": "stdout",
     "output_type": "stream",
     "text": [
      "enter a few words: The quick red fox got bored and went home.\n",
      "1 1 1 3 5 1 1 2 1 0 1 0 1 2 4 0 1 2 0 3 1 0 1 1 0 0\n"
     ]
    }
   ],
   "source": [
    "words = input(\"enter a few words: \")\n",
    "\n",
    "def frequencies(string):\n",
    "    formattedString = words.lower()\n",
    "    #change string to lower case\n",
    "    print(formattedString.count('a'), formattedString.count('b'), formattedString.count('c'), formattedString.count('d')\n",
    "    , formattedString.count('e'), formattedString.count('f'), formattedString.count('g'), formattedString.count('h')\n",
    "    , formattedString.count('i'), formattedString.count('j'), formattedString.count('k'), formattedString.count('l')\n",
    "    , formattedString.count('m'), formattedString.count('n'), formattedString.count('o'), formattedString.count('p')\n",
    "    , formattedString.count('q'), formattedString.count('r'), formattedString.count('s'), formattedString.count('t')\n",
    "    , formattedString.count('u'), formattedString.count('v'), formattedString.count('w'), formattedString.count('x')\n",
    "    , formattedString.count('y'), formattedString.count('z'))\n",
    "    #checks for each char in alaphbet\n",
    "    \n",
    "    \n",
    "\n",
    "frequencies(words)\n",
    "\n",
    "\n"
   ]
  }
 ],
 "metadata": {
  "kernelspec": {
   "display_name": "Python 3",
   "language": "python",
   "name": "python3"
  },
  "language_info": {
   "codemirror_mode": {
    "name": "ipython",
    "version": 3
   },
   "file_extension": ".py",
   "mimetype": "text/x-python",
   "name": "python",
   "nbconvert_exporter": "python",
   "pygments_lexer": "ipython3",
   "version": "3.8.5"
  }
 },
 "nbformat": 4,
 "nbformat_minor": 4
}
